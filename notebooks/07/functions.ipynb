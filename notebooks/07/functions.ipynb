{
 "cells": [
  {
   "cell_type": "code",
   "execution_count": 1,
   "metadata": {},
   "outputs": [],
   "source": [
    "# HIDDEN\n",
    "\n",
    "# The standard set of libraries we need\n",
    "import numpy as np"
   ]
  },
  {
   "cell_type": "markdown",
   "metadata": {},
   "source": [
    "# Functions\n",
    "\n",
    "We have already used functions.\n",
    "\n",
    "For example, we have used the `round` function:"
   ]
  },
  {
   "cell_type": "code",
   "execution_count": 2,
   "metadata": {},
   "outputs": [],
   "source": [
    "a = 3.1415"
   ]
  },
  {
   "cell_type": "code",
   "execution_count": 3,
   "metadata": {},
   "outputs": [],
   "source": [
    "# Call the \"round\" function\n",
    "b = round(a, 2)"
   ]
  },
  {
   "cell_type": "code",
   "execution_count": 4,
   "metadata": {},
   "outputs": [
    {
     "data": {
      "text/plain": [
       "3.14"
      ]
     },
     "execution_count": 4,
     "metadata": {},
     "output_type": "execute_result"
    }
   ],
   "source": [
    "b"
   ]
  },
  {
   "cell_type": "markdown",
   "metadata": {},
   "source": [
    "We will soon find that we often need to define our own functions.\n",
    "Before we do, we need to go into more detail about what functions are.\n",
    "\n",
    "## A metaphor\n",
    "\n",
    "Thanks to [John\n",
    "Dero](https://www.inferentialthinking.com/chapters/08/Functions_and_Tables)\n",
    "for this metaphor.\n",
    "\n",
    "Functions are like recipes.\n",
    "\n",
    "Recipes have *names*.  For example, I might have a recipe I call\n",
    "\"Macaroni cheese\".   In the same way, our function has a name,\n",
    "\"round\".  The name is to remind us what the recipe is for.  I could\n",
    "call the recipe \"Recipe number 4\", but that wouldn't be useful to\n",
    "remind me what the recipes is for.  \"round\" tells me that the function\n",
    "is going to do numerical rounding."
   ]
  }
 ],
 "metadata": {
  "jupytext": {
   "text_representation": {
    "extension": ".Rmd",
    "format_name": "rmarkdown",
    "format_version": "1.1",
    "jupytext_version": "0.8.7"
   }
  },
  "kernelspec": {
   "display_name": "Python 3",
   "language": "python",
   "name": "python3"
  },
  "language_info": {
   "codemirror_mode": {
    "name": "ipython",
    "version": 3
   },
   "file_extension": ".py",
   "mimetype": "text/x-python",
   "name": "python",
   "nbconvert_exporter": "python",
   "pygments_lexer": "ipython3",
   "version": "3.7.2"
  }
 },
 "nbformat": 4,
 "nbformat_minor": 2
}
